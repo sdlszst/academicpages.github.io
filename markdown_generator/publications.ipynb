{
 "cells": [
  {
   "cell_type": "markdown",
   "metadata": {},
   "source": [
    "# Publications markdown generator for academicpages\n",
    "\n",
    "Takes a TSV of publications with metadata and converts them for use with [academicpages.github.io](academicpages.github.io). This is an interactive Jupyter notebook ([see more info here](http://jupyter-notebook-beginner-guide.readthedocs.io/en/latest/what_is_jupyter.html)). The core python code is also in `publications.py`. Run either from the `markdown_generator` folder after replacing `publications.tsv` with one containing your data.\n",
    "\n",
    "TODO: Make this work with BibTex and other databases of citations, rather than Stuart's non-standard TSV format and citation style.\n"
   ]
  },
  {
   "cell_type": "markdown",
   "metadata": {},
   "source": [
    "## Data format\n",
    "\n",
    "The TSV needs to have the following columns: pub_date, title, venue, excerpt, citation, site_url, and paper_url, with a header at the top. \n",
    "\n",
    "- `excerpt` and `paper_url` can be blank, but the others must have values. \n",
    "- `pub_date` must be formatted as YYYY-MM-DD.\n",
    "- `url_slug` will be the descriptive part of the .md file and the permalink URL for the page about the paper. The .md file will be `YYYY-MM-DD-[url_slug].md` and the permalink will be `https://[yourdomain]/publications/YYYY-MM-DD-[url_slug]`\n",
    "\n",
    "This is how the raw file looks (it doesn't look pretty, use a spreadsheet or other program to edit and create)."
   ]
  },
  {
   "cell_type": "code",
   "execution_count": 1,
   "metadata": {},
   "outputs": [
    {
     "name": "stdout",
     "output_type": "stream",
     "text": [
      "pub_date\ttitle\tvenue\texcerpt\tcitation\turl_slug\tpaper_url\r\n",
      "2009-10-01\tPaper Title Number 1\tJournal 1\tThis paper is about the number 1. The number 2 is left for future work.\tYour Name, You. (2009). \"Paper Title Number 1.\" <i>Journal 1</i>. 1(1).\tpaper-title-number-1\thttp://academicpages.github.io/files/paper1.pdf\r\n",
      "2010-10-01\tPaper Title Number 2\tJournal 1\tThis paper is about the number 2. The number 3 is left for future work.\tYour Name, You. (2010). \"Paper Title Number 2.\" <i>Journal 1</i>. 1(2).\tpaper-title-number-2\thttp://academicpages.github.io/files/paper2.pdf\r\n",
      "2015-10-01\tPaper Title Number 3\tJournal 1\tThis paper is about the number 3. The number 4 is left for future work.\tYour Name, You. (2015). \"Paper Title Number 3.\" <i>Journal 1</i>. 1(3).\tpaper-title-number-3\thttp://academicpages.github.io/files/paper3.pdf"
     ]
    }
   ],
   "source": [
    "!cat publications.tsv"
   ]
  },
  {
   "cell_type": "code",
   "execution_count": 2,
   "metadata": {},
   "outputs": [
    {
     "name": "stderr",
     "output_type": "stream",
     "text": [
      "'cat' is not recognized as an internal or external command,\n",
      "operable program or batch file.\n"
     ]
    }
   ],
   "source": [
    "!cat publications.tsv"
   ]
  },
  {
   "cell_type": "markdown",
   "metadata": {},
   "source": [
    "## Import pandas\n",
    "\n",
    "We are using the very handy pandas library for dataframes."
   ]
  },
  {
   "cell_type": "code",
   "execution_count": 48,
   "metadata": {},
   "outputs": [],
   "source": [
    "import pandas as pd"
   ]
  },
  {
   "cell_type": "markdown",
   "metadata": {},
   "source": [
    "## Import TSV\n",
    "\n",
    "Pandas makes this easy with the read_csv function. We are using a TSV, so we specify the separator as a tab, or `\\t`.\n",
    "\n",
    "I found it important to put this data in a tab-separated values format, because there are a lot of commas in this kind of data and comma-separated values can get messed up. However, you can modify the import statement, as pandas also has read_excel(), read_json(), and others."
   ]
  },
  {
   "cell_type": "code",
   "execution_count": 62,
   "metadata": {},
   "outputs": [
    {
     "data": {
      "text/html": [
       "<div>\n",
       "<style scoped>\n",
       "    .dataframe tbody tr th:only-of-type {\n",
       "        vertical-align: middle;\n",
       "    }\n",
       "\n",
       "    .dataframe tbody tr th {\n",
       "        vertical-align: top;\n",
       "    }\n",
       "\n",
       "    .dataframe thead th {\n",
       "        text-align: right;\n",
       "    }\n",
       "</style>\n",
       "<table border=\"1\" class=\"dataframe\">\n",
       "  <thead>\n",
       "    <tr style=\"text-align: right;\">\n",
       "      <th></th>\n",
       "      <th>pub_date</th>\n",
       "      <th>title</th>\n",
       "      <th>venue</th>\n",
       "      <th>excerpt</th>\n",
       "      <th>citation</th>\n",
       "      <th>url_slug</th>\n",
       "      <th>paper_url</th>\n",
       "    </tr>\n",
       "  </thead>\n",
       "  <tbody>\n",
       "    <tr>\n",
       "      <th>0</th>\n",
       "      <td>2015-10-01</td>\n",
       "      <td>Paper Title Number 3</td>\n",
       "      <td>Journal 1</td>\n",
       "      <td>This paper is about the number 3. The number 4...</td>\n",
       "      <td>Your Name, You. (2015). \"Paper Title Number 3....</td>\n",
       "      <td>paper-title-number-3</td>\n",
       "      <td>http://academicpages.github.io/files/paper3.pdf</td>\n",
       "    </tr>\n",
       "    <tr>\n",
       "      <th>1</th>\n",
       "      <td>2020-10-05</td>\n",
       "      <td>Defect reconfigration in a Ti-Al alloy via ele...</td>\n",
       "      <td>Nature Materials</td>\n",
       "      <td>It has been known for decades that the applica...</td>\n",
       "      <td>Shiteng Zhao, Ruopeng Zhang, Yan Chong, Xiaoqi...</td>\n",
       "      <td>Defect reconfigration in a Ti-Al alloy via ele...</td>\n",
       "      <td>http://sdlszst.github.io/files/Zhao_27_Nature_...</td>\n",
       "    </tr>\n",
       "    <tr>\n",
       "      <th>2</th>\n",
       "      <td>2014-05-05</td>\n",
       "      <td>Influence of Severe Plastic Deformation on the...</td>\n",
       "      <td>Acta Materialia</td>\n",
       "      <td>This paper is about the dynamic strain aging o...</td>\n",
       "      <td>Shiteng Zhao, Chenlu Meng, Fengxin Mao, Weipin...</td>\n",
       "      <td>Influence of Severe Plastic Deformation on the...</td>\n",
       "      <td>http://sdlszst.github.io/files/Zhao_01_Acta_In...</td>\n",
       "    </tr>\n",
       "    <tr>\n",
       "      <th>3</th>\n",
       "      <td>2020-05-20</td>\n",
       "      <td>Short-range order and its impact on the CrCoNi...</td>\n",
       "      <td>Nature</td>\n",
       "      <td>Traditional metallic alloys are mixtures of el...</td>\n",
       "      <td>Ruopeng Zhang, Shiteng Zhao (contributed equal...</td>\n",
       "      <td>Short-range order and its impact on the CrCoNi...</td>\n",
       "      <td>http://sdlszst.github.io/files/Zhao_26_Nature_...</td>\n",
       "    </tr>\n",
       "    <tr>\n",
       "      <th>4</th>\n",
       "      <td>2019-12-13</td>\n",
       "      <td>Direct imaging of short-range order and its im...</td>\n",
       "      <td>Science Advances</td>\n",
       "      <td>Chemical short range order(SRO) within a nomin...</td>\n",
       "      <td>Ruopeng Zhang, Shiteng Zhao (Contributed equal...</td>\n",
       "      <td>Direct imaging of short-range order and its im...</td>\n",
       "      <td>http://sdlszst.github.io/files/Zhao_24_Science...</td>\n",
       "    </tr>\n",
       "    <tr>\n",
       "      <th>5</th>\n",
       "      <td>2018-12-16</td>\n",
       "      <td>Mechanical properties of high-entropy alloys w...</td>\n",
       "      <td>Progress in Materials Science</td>\n",
       "      <td>High-entropy alloys (HEAs), also known as mult...</td>\n",
       "      <td>Zezhou Li, Shiteng Zhao, Robert Ritchie, Marc ...</td>\n",
       "      <td>Mechanical properties of high-entropy alloys w...</td>\n",
       "      <td>http://sdlszst.github.io/files/Zhao_19_PMS_mec...</td>\n",
       "    </tr>\n",
       "    <tr>\n",
       "      <th>6</th>\n",
       "      <td>2017-09-12</td>\n",
       "      <td>Generating gradient germanium nanostructures b...</td>\n",
       "      <td>PNAS</td>\n",
       "      <td>Gradient nanostructures are attracting conside...</td>\n",
       "      <td>Shiteng Zhao, Bimal Kad, Christopher Wehrenber...</td>\n",
       "      <td>Generating gradient germanium nanostructures b...</td>\n",
       "      <td>http://sdlszst.github.io/files/Zhao_15_PNAS_la...</td>\n",
       "    </tr>\n",
       "    <tr>\n",
       "      <th>7</th>\n",
       "      <td>2016-10-25</td>\n",
       "      <td>Directional amorphization of boron carbide sub...</td>\n",
       "      <td>PNAS</td>\n",
       "      <td>Solid-state shock-wave propagation is strongly...</td>\n",
       "      <td>Shiteng Zhao, Bimal Kad, Bruce Remington, Jerr...</td>\n",
       "      <td>Directional amorphization of boron carbide sub...</td>\n",
       "      <td>http://sdlszst.github.io/files/Zhao_11_PNAS_Di...</td>\n",
       "    </tr>\n",
       "    <tr>\n",
       "      <th>8</th>\n",
       "      <td>2018-07-18</td>\n",
       "      <td>Shock-induced amorphization in silicon carbide</td>\n",
       "      <td>Acta Materialia</td>\n",
       "      <td>While SiC has been predicted to undergo pressu...</td>\n",
       "      <td>S. Zhao, R. Flanagan, E.N. Hahn, B. Kad, B.A.R...</td>\n",
       "      <td>Shock-induced amorphization in silicon carbide</td>\n",
       "      <td>http://sdlszst.github.io/files/Zhao_17_Acta Ma...</td>\n",
       "    </tr>\n",
       "    <tr>\n",
       "      <th>9</th>\n",
       "      <td>2015-09-12</td>\n",
       "      <td>Amorphization and nanocrystallization of silic...</td>\n",
       "      <td>High power pulsed laser driven shock compressi...</td>\n",
       "      <td>S. Zhao, E.N. Hahn, B. Kad, B.A.Remington, C.E...</td>\n",
       "      <td>Amorphization and nanocrystallization of silic...</td>\n",
       "      <td>http://sdlszst.github.io/files/Zhao_07_Acta_sh...</td>\n",
       "      <td>NaN</td>\n",
       "    </tr>\n",
       "    <tr>\n",
       "      <th>10</th>\n",
       "      <td>2018-07-19</td>\n",
       "      <td>Spall strength dependence on grain size and st...</td>\n",
       "      <td>We examine the effect of grain size on the dyn...</td>\n",
       "      <td>T.P.Remington, E.N. Hahn, S. Zhao (Correspondi...</td>\n",
       "      <td>Spall strength dependence on grain size and st...</td>\n",
       "      <td>http://sdlszst.github.io/files/Zhao_18_Acta Ma...</td>\n",
       "      <td>NaN</td>\n",
       "    </tr>\n",
       "  </tbody>\n",
       "</table>\n",
       "</div>"
      ],
      "text/plain": [
       "      pub_date                                              title  \\\n",
       "0   2015-10-01                               Paper Title Number 3   \n",
       "1   2020-10-05  Defect reconfigration in a Ti-Al alloy via ele...   \n",
       "2   2014-05-05  Influence of Severe Plastic Deformation on the...   \n",
       "3   2020-05-20  Short-range order and its impact on the CrCoNi...   \n",
       "4   2019-12-13  Direct imaging of short-range order and its im...   \n",
       "5   2018-12-16  Mechanical properties of high-entropy alloys w...   \n",
       "6   2017-09-12  Generating gradient germanium nanostructures b...   \n",
       "7   2016-10-25  Directional amorphization of boron carbide sub...   \n",
       "8   2018-07-18     Shock-induced amorphization in silicon carbide   \n",
       "9   2015-09-12  Amorphization and nanocrystallization of silic...   \n",
       "10  2018-07-19  Spall strength dependence on grain size and st...   \n",
       "\n",
       "                                                venue  \\\n",
       "0                                           Journal 1   \n",
       "1                                    Nature Materials   \n",
       "2                                     Acta Materialia   \n",
       "3                                              Nature   \n",
       "4                                    Science Advances   \n",
       "5                       Progress in Materials Science   \n",
       "6                                                PNAS   \n",
       "7                                                PNAS   \n",
       "8                                     Acta Materialia   \n",
       "9   High power pulsed laser driven shock compressi...   \n",
       "10  We examine the effect of grain size on the dyn...   \n",
       "\n",
       "                                              excerpt  \\\n",
       "0   This paper is about the number 3. The number 4...   \n",
       "1   It has been known for decades that the applica...   \n",
       "2   This paper is about the dynamic strain aging o...   \n",
       "3   Traditional metallic alloys are mixtures of el...   \n",
       "4   Chemical short range order(SRO) within a nomin...   \n",
       "5   High-entropy alloys (HEAs), also known as mult...   \n",
       "6   Gradient nanostructures are attracting conside...   \n",
       "7   Solid-state shock-wave propagation is strongly...   \n",
       "8   While SiC has been predicted to undergo pressu...   \n",
       "9   S. Zhao, E.N. Hahn, B. Kad, B.A.Remington, C.E...   \n",
       "10  T.P.Remington, E.N. Hahn, S. Zhao (Correspondi...   \n",
       "\n",
       "                                             citation  \\\n",
       "0   Your Name, You. (2015). \"Paper Title Number 3....   \n",
       "1   Shiteng Zhao, Ruopeng Zhang, Yan Chong, Xiaoqi...   \n",
       "2   Shiteng Zhao, Chenlu Meng, Fengxin Mao, Weipin...   \n",
       "3   Ruopeng Zhang, Shiteng Zhao (contributed equal...   \n",
       "4   Ruopeng Zhang, Shiteng Zhao (Contributed equal...   \n",
       "5   Zezhou Li, Shiteng Zhao, Robert Ritchie, Marc ...   \n",
       "6   Shiteng Zhao, Bimal Kad, Christopher Wehrenber...   \n",
       "7   Shiteng Zhao, Bimal Kad, Bruce Remington, Jerr...   \n",
       "8   S. Zhao, R. Flanagan, E.N. Hahn, B. Kad, B.A.R...   \n",
       "9   Amorphization and nanocrystallization of silic...   \n",
       "10  Spall strength dependence on grain size and st...   \n",
       "\n",
       "                                             url_slug  \\\n",
       "0                                paper-title-number-3   \n",
       "1   Defect reconfigration in a Ti-Al alloy via ele...   \n",
       "2   Influence of Severe Plastic Deformation on the...   \n",
       "3   Short-range order and its impact on the CrCoNi...   \n",
       "4   Direct imaging of short-range order and its im...   \n",
       "5   Mechanical properties of high-entropy alloys w...   \n",
       "6   Generating gradient germanium nanostructures b...   \n",
       "7   Directional amorphization of boron carbide sub...   \n",
       "8      Shock-induced amorphization in silicon carbide   \n",
       "9   http://sdlszst.github.io/files/Zhao_07_Acta_sh...   \n",
       "10  http://sdlszst.github.io/files/Zhao_18_Acta Ma...   \n",
       "\n",
       "                                            paper_url  \n",
       "0     http://academicpages.github.io/files/paper3.pdf  \n",
       "1   http://sdlszst.github.io/files/Zhao_27_Nature_...  \n",
       "2   http://sdlszst.github.io/files/Zhao_01_Acta_In...  \n",
       "3   http://sdlszst.github.io/files/Zhao_26_Nature_...  \n",
       "4   http://sdlszst.github.io/files/Zhao_24_Science...  \n",
       "5   http://sdlszst.github.io/files/Zhao_19_PMS_mec...  \n",
       "6   http://sdlszst.github.io/files/Zhao_15_PNAS_la...  \n",
       "7   http://sdlszst.github.io/files/Zhao_11_PNAS_Di...  \n",
       "8   http://sdlszst.github.io/files/Zhao_17_Acta Ma...  \n",
       "9                                                 NaN  \n",
       "10                                                NaN  "
      ]
     },
     "execution_count": 62,
     "metadata": {},
     "output_type": "execute_result"
    }
   ],
   "source": [
    "publications = pd.read_csv(\"publications.tsv\", sep=\"\\t\", header=0)\n",
    "publications\n"
   ]
  },
  {
   "cell_type": "markdown",
   "metadata": {},
   "source": [
    "## Escape special characters\n",
    "\n",
    "YAML is very picky about how it takes a valid string, so we are replacing single and double quotes (and ampersands) with their HTML encoded equivilents. This makes them look not so readable in raw format, but they are parsed and rendered nicely."
   ]
  },
  {
   "cell_type": "code",
   "execution_count": 60,
   "metadata": {},
   "outputs": [],
   "source": [
    "html_escape_table = {\n",
    "    \"&\": \"&amp;\",\n",
    "    '\"': \"&quot;\",\n",
    "    \"'\": \"&apos;\"\n",
    "    }\n",
    "\n",
    "def html_escape(text):\n",
    "    \"\"\"Produce entities within text.\"\"\"\n",
    "    return \"\".join(html_escape_table.get(c,c) for c in text)"
   ]
  },
  {
   "cell_type": "markdown",
   "metadata": {},
   "source": [
    "## Creating the markdown files\n",
    "\n",
    "This is where the heavy lifting is done. This loops through all the rows in the TSV dataframe, then starts to concatentate a big string (```md```) that contains the markdown for each type. It does the YAML metadata first, then does the description for the individual page."
   ]
  },
  {
   "cell_type": "code",
   "execution_count": 61,
   "metadata": {},
   "outputs": [],
   "source": [
    "import os\n",
    "for row, item in publications.iterrows():\n",
    "    \n",
    "    md_filename = str(item.pub_date) + \"-\" + item.url_slug + \".md\"\n",
    "    html_filename = str(item.pub_date) + \"-\" + item.url_slug\n",
    "    year = item.pub_date[:4]\n",
    "    \n",
    "    ## YAML variables\n",
    "    \n",
    "    md = \"---\\ntitle: \\\"\"   + item.title + '\"\\n'\n",
    "    \n",
    "    md += \"\"\"collection: publications\"\"\"\n",
    "    \n",
    "    md += \"\"\"\\npermalink: /publication/\"\"\" + html_filename\n",
    "    \n",
    "    if len(str(item.excerpt)) > 5:\n",
    "        md += \"\\nexcerpt: '\" + html_escape(item.excerpt) + \"'\"\n",
    "    \n",
    "    md += \"\\ndate: \" + str(item.pub_date) \n",
    "    \n",
    "    md += \"\\nvenue: '\" + html_escape(item.venue) + \"'\"\n",
    "    \n",
    "    if len(str(item.paper_url)) > 5:\n",
    "        md += \"\\npaperurl: '\" + item.paper_url + \"'\"\n",
    "    \n",
    "    md += \"\\ncitation: '\" + html_escape(item.citation) + \"'\"\n",
    "    \n",
    "    md += \"\\n---\"\n",
    "    \n",
    "    ## Markdown description for individual page\n",
    "        \n",
    "    if len(str(item.excerpt)) > 5:\n",
    "        md += \"\\n\" + html_escape(item.excerpt) + \"\\n\"\n",
    "    \n",
    "    if len(str(item.paper_url)) > 5:\n",
    "        md += \"\\n[Download paper here](\" + item.paper_url + \")\\n\" \n",
    "        \n",
    "    md += \"\\nRecommended citation: \" + item.citation\n",
    "    \n",
    "    md_filename = os.path.basename(md_filename)\n",
    "       \n",
    "    with open(\"../_publications/\" + md_filename, 'w') as f:\n",
    "        f.write(md)"
   ]
  },
  {
   "cell_type": "markdown",
   "metadata": {},
   "source": [
    "These files are in the publications directory, one directory below where we're working from."
   ]
  },
  {
   "cell_type": "code",
   "execution_count": 9,
   "metadata": {},
   "outputs": [
    {
     "name": "stderr",
     "output_type": "stream",
     "text": [
      "'ls' is not recognized as an internal or external command,\n",
      "operable program or batch file.\n"
     ]
    }
   ],
   "source": [
    "!ls ../_publications/"
   ]
  },
  {
   "cell_type": "code",
   "execution_count": 7,
   "metadata": {},
   "outputs": [
    {
     "name": "stdout",
     "output_type": "stream",
     "text": [
      "---\r\n",
      "title: \"Paper Title Number 1\"\r\n",
      "collection: publications\r\n",
      "permalink: /publication/2009-10-01-paper-title-number-1\r\n",
      "excerpt: 'This paper is about the number 1. The number 2 is left for future work.'\r\n",
      "date: 2009-10-01\r\n",
      "venue: 'Journal 1'\r\n",
      "paperurl: 'http://academicpages.github.io/files/paper1.pdf'\r\n",
      "citation: 'Your Name, You. (2009). &quot;Paper Title Number 1.&quot; <i>Journal 1</i>. 1(1).'\r\n",
      "---\r\n",
      "This paper is about the number 1. The number 2 is left for future work.\r\n",
      "\r\n",
      "[Download paper here](http://academicpages.github.io/files/paper1.pdf)\r\n",
      "\r\n",
      "Recommended citation: Your Name, You. (2009). \"Paper Title Number 1.\" <i>Journal 1</i>. 1(1)."
     ]
    }
   ],
   "source": [
    "!cat ../_publications/2009-10-01-paper-title-number-1.md"
   ]
  },
  {
   "cell_type": "code",
   "execution_count": null,
   "metadata": {
    "collapsed": true
   },
   "outputs": [],
   "source": []
  }
 ],
 "metadata": {
  "kernelspec": {
   "display_name": "Python 3",
   "language": "python",
   "name": "python3"
  },
  "language_info": {
   "codemirror_mode": {
    "name": "ipython",
    "version": 3
   },
   "file_extension": ".py",
   "mimetype": "text/x-python",
   "name": "python",
   "nbconvert_exporter": "python",
   "pygments_lexer": "ipython3",
   "version": "3.7.6"
  }
 },
 "nbformat": 4,
 "nbformat_minor": 1
}
